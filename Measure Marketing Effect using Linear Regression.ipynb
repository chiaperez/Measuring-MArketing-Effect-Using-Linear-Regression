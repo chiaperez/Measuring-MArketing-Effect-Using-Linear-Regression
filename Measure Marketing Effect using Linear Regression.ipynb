{
  "nbformat": 4,
  "nbformat_minor": 0,
  "metadata": {
    "colab": {
      "name": "AI & ML Project.ipynb",
      "provenance": [],
      "collapsed_sections": []
    },
    "kernelspec": {
      "display_name": "Python 3",
      "name": "python3"
    },
    "language_info": {
      "name": "python"
    }
  },
  "cells": [
    {
      "cell_type": "markdown",
      "metadata": {
        "id": "z3LxiHamzcHH"
      },
      "source": [
        "Amjad Alawami, Neha Das, Chiara Perez, Stina Tam"
      ]
    },
    {
      "cell_type": "markdown",
      "metadata": {
        "id": "R6s_rNTYWweM"
      },
      "source": [
        "**Measure Marketing Effect using Linear Regression**"
      ]
    },
    {
      "cell_type": "code",
      "metadata": {
        "id": "MOrZgiknQBeZ",
        "colab": {
          "base_uri": "https://localhost:8080/"
        },
        "outputId": "293b721d-b6c9-4a22-a799-7c6e9baec265"
      },
      "source": [
        "import pandas as pd\n",
        "import sklearn\n",
        "import numpy as np\n",
        "import random\n",
        "import statsmodels.api as sm\n",
        "import statsmodels.formula.api as smf\n",
        "import matplotlib.pyplot as plt\n"
      ],
      "execution_count": null,
      "outputs": [
        {
          "output_type": "stream",
          "name": "stderr",
          "text": [
            "/usr/local/lib/python3.7/dist-packages/statsmodels/tools/_testing.py:19: FutureWarning: pandas.util.testing is deprecated. Use the functions in the public API at pandas.testing instead.\n",
            "  import pandas.util.testing as tm\n"
          ]
        }
      ]
    },
    {
      "cell_type": "code",
      "metadata": {
        "colab": {
          "resources": {
            "http://localhost:8080/nbextensions/google.colab/files.js": {
              "data": "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",
              "ok": true,
              "headers": [
                [
                  "content-type",
                  "application/javascript"
                ]
              ],
              "status": 200,
              "status_text": ""
            }
          },
          "base_uri": "https://localhost:8080/",
          "height": 73
        },
        "id": "5xHTRnPKQYOH",
        "outputId": "14f75f73-56d8-463c-9a74-fca2c531e1d3"
      },
      "source": [
        "from google.colab import files\n",
        "myfile = files.upload()\n"
      ],
      "execution_count": null,
      "outputs": [
        {
          "output_type": "display_data",
          "data": {
            "text/html": [
              "\n",
              "     <input type=\"file\" id=\"files-81aa4b81-b179-41c3-b9ad-ac28059c4841\" name=\"files[]\" multiple disabled\n",
              "        style=\"border:none\" />\n",
              "     <output id=\"result-81aa4b81-b179-41c3-b9ad-ac28059c4841\">\n",
              "      Upload widget is only available when the cell has been executed in the\n",
              "      current browser session. Please rerun this cell to enable.\n",
              "      </output>\n",
              "      <script src=\"/nbextensions/google.colab/files.js\"></script> "
            ],
            "text/plain": [
              "<IPython.core.display.HTML object>"
            ]
          },
          "metadata": {}
        },
        {
          "output_type": "stream",
          "name": "stdout",
          "text": [
            "Saving WA_Fn-UseC_-Marketing-Campaign-Eff-UseC_-FastF.csv to WA_Fn-UseC_-Marketing-Campaign-Eff-UseC_-FastF.csv\n"
          ]
        }
      ]
    },
    {
      "cell_type": "code",
      "metadata": {
        "colab": {
          "base_uri": "https://localhost:8080/",
          "height": 238
        },
        "id": "6-nFTLPFQmZh",
        "outputId": "3799b0b3-b51f-4065-83e7-8b32b242b158"
      },
      "source": [
        "df = pd.read_csv(\"WA_Fn-UseC_-Marketing-Campaign-Eff-UseC_-FastF.csv\", index_col= 0)\n",
        "df.head()"
      ],
      "execution_count": null,
      "outputs": [
        {
          "output_type": "execute_result",
          "data": {
            "text/html": [
              "<div>\n",
              "<style scoped>\n",
              "    .dataframe tbody tr th:only-of-type {\n",
              "        vertical-align: middle;\n",
              "    }\n",
              "\n",
              "    .dataframe tbody tr th {\n",
              "        vertical-align: top;\n",
              "    }\n",
              "\n",
              "    .dataframe thead th {\n",
              "        text-align: right;\n",
              "    }\n",
              "</style>\n",
              "<table border=\"1\" class=\"dataframe\">\n",
              "  <thead>\n",
              "    <tr style=\"text-align: right;\">\n",
              "      <th></th>\n",
              "      <th>MarketSize</th>\n",
              "      <th>LocationID</th>\n",
              "      <th>AgeOfStore</th>\n",
              "      <th>Promotion</th>\n",
              "      <th>week</th>\n",
              "      <th>SalesInThousands</th>\n",
              "    </tr>\n",
              "    <tr>\n",
              "      <th>MarketID</th>\n",
              "      <th></th>\n",
              "      <th></th>\n",
              "      <th></th>\n",
              "      <th></th>\n",
              "      <th></th>\n",
              "      <th></th>\n",
              "    </tr>\n",
              "  </thead>\n",
              "  <tbody>\n",
              "    <tr>\n",
              "      <th>1</th>\n",
              "      <td>Medium</td>\n",
              "      <td>1</td>\n",
              "      <td>4</td>\n",
              "      <td>3</td>\n",
              "      <td>1</td>\n",
              "      <td>33.73</td>\n",
              "    </tr>\n",
              "    <tr>\n",
              "      <th>1</th>\n",
              "      <td>Medium</td>\n",
              "      <td>1</td>\n",
              "      <td>4</td>\n",
              "      <td>3</td>\n",
              "      <td>2</td>\n",
              "      <td>35.67</td>\n",
              "    </tr>\n",
              "    <tr>\n",
              "      <th>1</th>\n",
              "      <td>Medium</td>\n",
              "      <td>1</td>\n",
              "      <td>4</td>\n",
              "      <td>3</td>\n",
              "      <td>3</td>\n",
              "      <td>29.03</td>\n",
              "    </tr>\n",
              "    <tr>\n",
              "      <th>1</th>\n",
              "      <td>Medium</td>\n",
              "      <td>1</td>\n",
              "      <td>4</td>\n",
              "      <td>3</td>\n",
              "      <td>4</td>\n",
              "      <td>39.25</td>\n",
              "    </tr>\n",
              "    <tr>\n",
              "      <th>1</th>\n",
              "      <td>Medium</td>\n",
              "      <td>2</td>\n",
              "      <td>5</td>\n",
              "      <td>2</td>\n",
              "      <td>1</td>\n",
              "      <td>27.81</td>\n",
              "    </tr>\n",
              "  </tbody>\n",
              "</table>\n",
              "</div>"
            ],
            "text/plain": [
              "         MarketSize  LocationID  AgeOfStore  Promotion  week  SalesInThousands\n",
              "MarketID                                                                      \n",
              "1            Medium           1           4          3     1             33.73\n",
              "1            Medium           1           4          3     2             35.67\n",
              "1            Medium           1           4          3     3             29.03\n",
              "1            Medium           1           4          3     4             39.25\n",
              "1            Medium           2           5          2     1             27.81"
            ]
          },
          "metadata": {},
          "execution_count": 4
        }
      ]
    },
    {
      "cell_type": "code",
      "metadata": {
        "colab": {
          "base_uri": "https://localhost:8080/"
        },
        "id": "bXKNVh1HXNKU",
        "outputId": "3dcbf020-3a16-41cc-993f-3c6756bdf5ee"
      },
      "source": [
        "df['SalesInThousands'].describe()"
      ],
      "execution_count": null,
      "outputs": [
        {
          "output_type": "execute_result",
          "data": {
            "text/plain": [
              "count    548.000000\n",
              "mean      53.466204\n",
              "std       16.755216\n",
              "min       17.340000\n",
              "25%       42.545000\n",
              "50%       50.200000\n",
              "75%       60.477500\n",
              "max       99.650000\n",
              "Name: SalesInThousands, dtype: float64"
            ]
          },
          "metadata": {},
          "execution_count": 5
        }
      ]
    },
    {
      "cell_type": "code",
      "metadata": {
        "colab": {
          "base_uri": "https://localhost:8080/",
          "height": 298
        },
        "id": "9Oc4PRtASoiB",
        "outputId": "4228c4f9-2027-4353-e778-b364ca61c599"
      },
      "source": [
        "plt.bar(df['Promotion'], df['SalesInThousands'], alpha=0.5)\n",
        "plt.title(\"Sales by Promotion Type\")"
      ],
      "execution_count": null,
      "outputs": [
        {
          "output_type": "execute_result",
          "data": {
            "text/plain": [
              "Text(0.5, 1.0, 'Sales by Promotion Type')"
            ]
          },
          "metadata": {},
          "execution_count": 6
        },
        {
          "output_type": "display_data",
          "data": {
            "image/png": "[encoded data removed]",
            "text/plain": [
              "<Figure size 432x288 with 1 Axes>"
            ]
          },
          "metadata": {
            "needs_background": "light"
          }
        }
      ]
    },
    {
      "cell_type": "code",
      "metadata": {
        "colab": {
          "base_uri": "https://localhost:8080/",
          "height": 298
        },
        "id": "jE1DIyx8StA-",
        "outputId": "5fad1b2f-5233-4fd8-a7dd-dc300e302ebb"
      },
      "source": [
        "plt.scatter(df['MarketSize'], df['SalesInThousands'], alpha=0.5)\n",
        "plt.title(\"Sales by Market Size\")"
      ],
      "execution_count": null,
      "outputs": [
        {
          "output_type": "execute_result",
          "data": {
            "text/plain": [
              "Text(0.5, 1.0, 'Sales by Market Size')"
            ]
          },
          "metadata": {},
          "execution_count": 7
        },
        {
          "output_type": "display_data",
          "data": {
            "image/png": "[encoded data removed]",
            "text/plain": [
              "<Figure size 432x288 with 1 Axes>"
            ]
          },
          "metadata": {
            "needs_background": "light"
          }
        }
      ]
    },
    {
      "cell_type": "code",
      "metadata": {
        "colab": {
          "base_uri": "https://localhost:8080/",
          "height": 298
        },
        "id": "B8xRH58LS5bK",
        "outputId": "f12b8232-69b0-4034-8dd8-77a520f66bac"
      },
      "source": [
        "plt.scatter(df['AgeOfStore'], df['SalesInThousands'], alpha=0.5)\n",
        "plt.title(\"Sales by Age of Store\")"
      ],
      "execution_count": null,
      "outputs": [
        {
          "output_type": "execute_result",
          "data": {
            "text/plain": [
              "Text(0.5, 1.0, 'Sales by Age of Store')"
            ]
          },
          "metadata": {},
          "execution_count": 8
        },
        {
          "output_type": "display_data",
          "data": {
            "image/png": "[encoded data removed]",
            "text/plain": [
              "<Figure size 432x288 with 1 Axes>"
            ]
          },
          "metadata": {
            "needs_background": "light"
          }
        }
      ]
    },
    {
      "cell_type": "code",
      "metadata": {
        "colab": {
          "base_uri": "https://localhost:8080/",
          "height": 298
        },
        "id": "mFsvI-CuTgXm",
        "outputId": "deec79e7-7954-4127-f431-4118f8fc198a"
      },
      "source": [
        "plt.scatter(df['week'], df['SalesInThousands'], alpha=0.5)\n",
        "plt.title(\"Sales by Week\")"
      ],
      "execution_count": null,
      "outputs": [
        {
          "output_type": "execute_result",
          "data": {
            "text/plain": [
              "Text(0.5, 1.0, 'Sales by Week')"
            ]
          },
          "metadata": {},
          "execution_count": 9
        },
        {
          "output_type": "display_data",
          "data": {
            "image/png": "[encoded data removed]",
            "text/plain": [
              "<Figure size 432x288 with 1 Axes>"
            ]
          },
          "metadata": {
            "needs_background": "light"
          }
        }
      ]
    },
    {
      "cell_type": "code",
      "metadata": {
        "colab": {
          "base_uri": "https://localhost:8080/",
          "height": 184
        },
        "id": "YYv8eBn8kVNR",
        "outputId": "4343351f-4c9f-4d1b-9f8d-8c54a4af48d9"
      },
      "source": [
        "Iplt.bar(df['LocationID'], df['SalesInThousands'], alpha=0.5)\n",
        "plt.title(\"Sales by Week\")"
      ],
      "execution_count": null,
      "outputs": [
        {
          "output_type": "error",
          "ename": "NameError",
          "evalue": "ignored",
          "traceback": [
            "\u001b[0;31m---------------------------------------------------------------------------\u001b[0m",
            "\u001b[0;31mNameError\u001b[0m                                 Traceback (most recent call last)",
            "\u001b[0;32m<ipython-input-10-102825211348>\u001b[0m in \u001b[0;36m<module>\u001b[0;34m()\u001b[0m\n\u001b[0;32m----> 1\u001b[0;31m \u001b[0mIplt\u001b[0m\u001b[0;34m.\u001b[0m\u001b[0mbar\u001b[0m\u001b[0;34m(\u001b[0m\u001b[0mdf\u001b[0m\u001b[0;34m[\u001b[0m\u001b[0;34m'LocationID'\u001b[0m\u001b[0;34m]\u001b[0m\u001b[0;34m,\u001b[0m \u001b[0mdf\u001b[0m\u001b[0;34m[\u001b[0m\u001b[0;34m'SalesInThousands'\u001b[0m\u001b[0;34m]\u001b[0m\u001b[0;34m,\u001b[0m \u001b[0malpha\u001b[0m\u001b[0;34m=\u001b[0m\u001b[0;36m0.5\u001b[0m\u001b[0;34m)\u001b[0m\u001b[0;34m\u001b[0m\u001b[0;34m\u001b[0m\u001b[0m\n\u001b[0m\u001b[1;32m      2\u001b[0m \u001b[0mplt\u001b[0m\u001b[0;34m.\u001b[0m\u001b[0mtitle\u001b[0m\u001b[0;34m(\u001b[0m\u001b[0;34m\"Sales by Week\"\u001b[0m\u001b[0;34m)\u001b[0m\u001b[0;34m\u001b[0m\u001b[0;34m\u001b[0m\u001b[0m\n",
            "\u001b[0;31mNameError\u001b[0m: name 'Iplt' is not defined"
          ]
        }
      ]
    },
    {
      "cell_type": "markdown",
      "metadata": {
        "id": "lP7QZMNBTBUp"
      },
      "source": [
        "**Create Data for Model**\n"
      ]
    },
    {
      "cell_type": "code",
      "metadata": {
        "id": "Nmjuo95mQyPL"
      },
      "source": [
        "df.loc[df['MarketSize'] == 'Small', 'Mkt_Small'] =1\n",
        "df.loc[df['MarketSize'] == 'Medium', 'Mkt_Medium'] =1\n",
        "df.loc[df['MarketSize'] == 'Large', 'Mkt_Large'] =1\n",
        "df.loc[df['Promotion'] == 1, 'Promotion_1'] = 1\n",
        "df.loc[df['Promotion'] == 2, 'Promotion_2'] = 1\n",
        "df.loc[df['Promotion'] == 3, 'Promotion_3'] = 1\n"
      ],
      "execution_count": null,
      "outputs": []
    },
    {
      "cell_type": "code",
      "metadata": {
        "colab": {
          "base_uri": "https://localhost:8080/",
          "height": 455
        },
        "id": "5PkQezfE7z_N",
        "outputId": "0c7d261a-5dfd-4372-810f-dadbd83f97b0"
      },
      "source": [
        "from numpy import nan\n",
        "df.dropna\n",
        "df = df.replace(nan, 0)\n",
        "df"
      ],
      "execution_count": null,
      "outputs": [
        {
          "output_type": "execute_result",
          "data": {
            "text/html": [
              "<div>\n",
              "<style scoped>\n",
              "    .dataframe tbody tr th:only-of-type {\n",
              "        vertical-align: middle;\n",
              "    }\n",
              "\n",
              "    .dataframe tbody tr th {\n",
              "        vertical-align: top;\n",
              "    }\n",
              "\n",
              "    .dataframe thead th {\n",
              "        text-align: right;\n",
              "    }\n",
              "</style>\n",
              "<table border=\"1\" class=\"dataframe\">\n",
              "  <thead>\n",
              "    <tr style=\"text-align: right;\">\n",
              "      <th></th>\n",
              "      <th>MarketSize</th>\n",
              "      <th>LocationID</th>\n",
              "      <th>AgeOfStore</th>\n",
              "      <th>Promotion</th>\n",
              "      <th>week</th>\n",
              "      <th>SalesInThousands</th>\n",
              "      <th>Mkt_Small</th>\n",
              "      <th>Mkt_Medium</th>\n",
              "      <th>Mkt_Large</th>\n",
              "      <th>Promotion_1</th>\n",
              "      <th>Promotion_2</th>\n",
              "      <th>Promotion_3</th>\n",
              "    </tr>\n",
              "    <tr>\n",
              "      <th>MarketID</th>\n",
              "      <th></th>\n",
              "      <th></th>\n",
              "      <th></th>\n",
              "      <th></th>\n",
              "      <th></th>\n",
              "      <th></th>\n",
              "      <th></th>\n",
              "      <th></th>\n",
              "      <th></th>\n",
              "      <th></th>\n",
              "      <th></th>\n",
              "      <th></th>\n",
              "    </tr>\n",
              "  </thead>\n",
              "  <tbody>\n",
              "    <tr>\n",
              "      <th>1</th>\n",
              "      <td>Medium</td>\n",
              "      <td>1</td>\n",
              "      <td>4</td>\n",
              "      <td>3</td>\n",
              "      <td>1</td>\n",
              "      <td>33.73</td>\n",
              "      <td>0.0</td>\n",
              "      <td>1.0</td>\n",
              "      <td>0.0</td>\n",
              "      <td>0.0</td>\n",
              "      <td>0.0</td>\n",
              "      <td>1.0</td>\n",
              "    </tr>\n",
              "    <tr>\n",
              "      <th>1</th>\n",
              "      <td>Medium</td>\n",
              "      <td>1</td>\n",
              "      <td>4</td>\n",
              "      <td>3</td>\n",
              "      <td>2</td>\n",
              "      <td>35.67</td>\n",
              "      <td>0.0</td>\n",
              "      <td>1.0</td>\n",
              "      <td>0.0</td>\n",
              "      <td>0.0</td>\n",
              "      <td>0.0</td>\n",
              "      <td>1.0</td>\n",
              "    </tr>\n",
              "    <tr>\n",
              "      <th>1</th>\n",
              "      <td>Medium</td>\n",
              "      <td>1</td>\n",
              "      <td>4</td>\n",
              "      <td>3</td>\n",
              "      <td>3</td>\n",
              "      <td>29.03</td>\n",
              "      <td>0.0</td>\n",
              "      <td>1.0</td>\n",
              "      <td>0.0</td>\n",
              "      <td>0.0</td>\n",
              "      <td>0.0</td>\n",
              "      <td>1.0</td>\n",
              "    </tr>\n",
              "    <tr>\n",
              "      <th>1</th>\n",
              "      <td>Medium</td>\n",
              "      <td>1</td>\n",
              "      <td>4</td>\n",
              "      <td>3</td>\n",
              "      <td>4</td>\n",
              "      <td>39.25</td>\n",
              "      <td>0.0</td>\n",
              "      <td>1.0</td>\n",
              "      <td>0.0</td>\n",
              "      <td>0.0</td>\n",
              "      <td>0.0</td>\n",
              "      <td>1.0</td>\n",
              "    </tr>\n",
              "    <tr>\n",
              "      <th>1</th>\n",
              "      <td>Medium</td>\n",
              "      <td>2</td>\n",
              "      <td>5</td>\n",
              "      <td>2</td>\n",
              "      <td>1</td>\n",
              "      <td>27.81</td>\n",
              "      <td>0.0</td>\n",
              "      <td>1.0</td>\n",
              "      <td>0.0</td>\n",
              "      <td>0.0</td>\n",
              "      <td>1.0</td>\n",
              "      <td>0.0</td>\n",
              "    </tr>\n",
              "    <tr>\n",
              "      <th>...</th>\n",
              "      <td>...</td>\n",
              "      <td>...</td>\n",
              "      <td>...</td>\n",
              "      <td>...</td>\n",
              "      <td>...</td>\n",
              "      <td>...</td>\n",
              "      <td>...</td>\n",
              "      <td>...</td>\n",
              "      <td>...</td>\n",
              "      <td>...</td>\n",
              "      <td>...</td>\n",
              "      <td>...</td>\n",
              "    </tr>\n",
              "    <tr>\n",
              "      <th>10</th>\n",
              "      <td>Large</td>\n",
              "      <td>919</td>\n",
              "      <td>2</td>\n",
              "      <td>1</td>\n",
              "      <td>4</td>\n",
              "      <td>64.34</td>\n",
              "      <td>0.0</td>\n",
              "      <td>0.0</td>\n",
              "      <td>1.0</td>\n",
              "      <td>1.0</td>\n",
              "      <td>0.0</td>\n",
              "      <td>0.0</td>\n",
              "    </tr>\n",
              "    <tr>\n",
              "      <th>10</th>\n",
              "      <td>Large</td>\n",
              "      <td>920</td>\n",
              "      <td>14</td>\n",
              "      <td>2</td>\n",
              "      <td>1</td>\n",
              "      <td>50.20</td>\n",
              "      <td>0.0</td>\n",
              "      <td>0.0</td>\n",
              "      <td>1.0</td>\n",
              "      <td>0.0</td>\n",
              "      <td>1.0</td>\n",
              "      <td>0.0</td>\n",
              "    </tr>\n",
              "    <tr>\n",
              "      <th>10</th>\n",
              "      <td>Large</td>\n",
              "      <td>920</td>\n",
              "      <td>14</td>\n",
              "      <td>2</td>\n",
              "      <td>2</td>\n",
              "      <td>45.75</td>\n",
              "      <td>0.0</td>\n",
              "      <td>0.0</td>\n",
              "      <td>1.0</td>\n",
              "      <td>0.0</td>\n",
              "      <td>1.0</td>\n",
              "      <td>0.0</td>\n",
              "    </tr>\n",
              "    <tr>\n",
              "      <th>10</th>\n",
              "      <td>Large</td>\n",
              "      <td>920</td>\n",
              "      <td>14</td>\n",
              "      <td>2</td>\n",
              "      <td>3</td>\n",
              "      <td>44.29</td>\n",
              "      <td>0.0</td>\n",
              "      <td>0.0</td>\n",
              "      <td>1.0</td>\n",
              "      <td>0.0</td>\n",
              "      <td>1.0</td>\n",
              "      <td>0.0</td>\n",
              "    </tr>\n",
              "    <tr>\n",
              "      <th>10</th>\n",
              "      <td>Large</td>\n",
              "      <td>920</td>\n",
              "      <td>14</td>\n",
              "      <td>2</td>\n",
              "      <td>4</td>\n",
              "      <td>49.41</td>\n",
              "      <td>0.0</td>\n",
              "      <td>0.0</td>\n",
              "      <td>1.0</td>\n",
              "      <td>0.0</td>\n",
              "      <td>1.0</td>\n",
              "      <td>0.0</td>\n",
              "    </tr>\n",
              "  </tbody>\n",
              "</table>\n",
              "<p>548 rows × 12 columns</p>\n",
              "</div>"
            ],
            "text/plain": [
              "         MarketSize  LocationID  ...  Promotion_2  Promotion_3\n",
              "MarketID                         ...                          \n",
              "1            Medium           1  ...          0.0          1.0\n",
              "1            Medium           1  ...          0.0          1.0\n",
              "1            Medium           1  ...          0.0          1.0\n",
              "1            Medium           1  ...          0.0          1.0\n",
              "1            Medium           2  ...          1.0          0.0\n",
              "...             ...         ...  ...          ...          ...\n",
              "10            Large         919  ...          0.0          0.0\n",
              "10            Large         920  ...          1.0          0.0\n",
              "10            Large         920  ...          1.0          0.0\n",
              "10            Large         920  ...          1.0          0.0\n",
              "10            Large         920  ...          1.0          0.0\n",
              "\n",
              "[548 rows x 12 columns]"
            ]
          },
          "metadata": {},
          "execution_count": 12
        }
      ]
    },
    {
      "cell_type": "markdown",
      "metadata": {
        "id": "2YorhK8Wzwx0"
      },
      "source": [
        "**Create Model**"
      ]
    },
    {
      "cell_type": "code",
      "metadata": {
        "colab": {
          "base_uri": "https://localhost:8080/"
        },
        "id": "GQGoP7BPVBFV",
        "outputId": "b9e0362a-2734-4e7a-922e-b3b1b221ca83"
      },
      "source": [
        "#What is the effect of each promotion?\n",
        "result = smf.ols(\"SalesInThousands ~ Promotion_1 + Promotion_2 + Promotion_3\", df).fit()\n",
        "print (result.summary())"
      ],
      "execution_count": null,
      "outputs": [
        {
          "output_type": "stream",
          "name": "stdout",
          "text": [
            "                            OLS Regression Results                            \n",
            "==============================================================================\n",
            "Dep. Variable:       SalesInThousands   R-squared:                       0.075\n",
            "Model:                            OLS   Adj. R-squared:                  0.071\n",
            "Method:                 Least Squares   F-statistic:                     21.95\n",
            "Date:                Tue, 12 Oct 2021   Prob (F-statistic):           6.77e-10\n",
            "Time:                        13:16:46   Log-Likelihood:                -2300.5\n",
            "No. Observations:                 548   AIC:                             4607.\n",
            "Df Residuals:                     545   BIC:                             4620.\n",
            "Df Model:                           2                                         \n",
            "Covariance Type:            nonrobust                                         \n",
            "===============================================================================\n",
            "                  coef    std err          t      P>|t|      [0.025      0.975]\n",
            "-------------------------------------------------------------------------------\n",
            "Intercept      40.1982      0.518     77.631      0.000      39.181      41.215\n",
            "Promotion_1    17.9008      1.013     17.671      0.000      15.911      19.891\n",
            "Promotion_2     7.1312      0.981      7.272      0.000       5.205       9.057\n",
            "Promotion_3    15.1662      0.981     15.466      0.000      13.240      17.093\n",
            "==============================================================================\n",
            "Omnibus:                       52.072   Durbin-Watson:                   0.251\n",
            "Prob(Omnibus):                  0.000   Jarque-Bera (JB):               65.242\n",
            "Skew:                           0.842   Prob(JB):                     6.81e-15\n",
            "Kurtosis:                       3.137   Cond. No.                     2.64e+15\n",
            "==============================================================================\n",
            "\n",
            "Warnings:\n",
            "[1] Standard Errors assume that the covariance matrix of the errors is correctly specified.\n",
            "[2] The smallest eigenvalue is 1.05e-28. This might indicate that there are\n",
            "strong multicollinearity problems or that the design matrix is singular.\n"
          ]
        }
      ]
    },
    {
      "cell_type": "code",
      "metadata": {
        "colab": {
          "base_uri": "https://localhost:8080/"
        },
        "id": "AWICcBziVCaA",
        "outputId": "01d2f20f-db3a-4e7e-a73f-1a862d755a9d"
      },
      "source": [
        "#Does market size change sales?\n",
        "result = smf.ols(\"SalesInThousands ~ Mkt_Small + Mkt_Medium\", df).fit()\n",
        "print(result.summary())"
      ],
      "execution_count": null,
      "outputs": [
        {
          "output_type": "stream",
          "name": "stdout",
          "text": [
            "                            OLS Regression Results                            \n",
            "==============================================================================\n",
            "Dep. Variable:       SalesInThousands   R-squared:                       0.497\n",
            "Model:                            OLS   Adj. R-squared:                  0.495\n",
            "Method:                 Least Squares   F-statistic:                     268.9\n",
            "Date:                Tue, 12 Oct 2021   Prob (F-statistic):           5.63e-82\n",
            "Time:                        12:09:20   Log-Likelihood:                -2133.6\n",
            "No. Observations:                 548   AIC:                             4273.\n",
            "Df Residuals:                     545   BIC:                             4286.\n",
            "Df Model:                           2                                         \n",
            "Covariance Type:            nonrobust                                         \n",
            "==============================================================================\n",
            "                 coef    std err          t      P>|t|      [0.025      0.975]\n",
            "------------------------------------------------------------------------------\n",
            "Intercept     70.1167      0.919     76.315      0.000      68.312      71.922\n",
            "Mkt_Small    -12.7074      1.791     -7.095      0.000     -16.226      -9.189\n",
            "Mkt_Medium   -26.1314      1.135    -23.031      0.000     -28.360     -23.903\n",
            "==============================================================================\n",
            "Omnibus:                        8.158   Durbin-Watson:                   0.518\n",
            "Prob(Omnibus):                  0.017   Jarque-Bera (JB):                6.384\n",
            "Skew:                          -0.166   Prob(JB):                       0.0411\n",
            "Kurtosis:                       2.588   Cond. No.                         4.64\n",
            "==============================================================================\n",
            "\n",
            "Warnings:\n",
            "[1] Standard Errors assume that the covariance matrix of the errors is correctly specified.\n"
          ]
        }
      ]
    },
    {
      "cell_type": "markdown",
      "metadata": {
        "id": "oeRYUYHijaQo"
      },
      "source": [
        "**What is the best promotion for each Market Size??**"
      ]
    },
    {
      "cell_type": "code",
      "metadata": {
        "id": "H3lBmi0fiYmZ"
      },
      "source": [
        "#Create new dataframe for each market\n",
        "df_small = df.loc[df['MarketSize'] == 'Small']\n",
        "df_medium = df.loc[df['MarketSize'] == 'Medium']\n",
        "df_large = df.loc[df['MarketSize'] == 'Large']"
      ],
      "execution_count": null,
      "outputs": []
    },
    {
      "cell_type": "code",
      "metadata": {
        "colab": {
          "base_uri": "https://localhost:8080/"
        },
        "id": "SF8cjN94t3YX",
        "outputId": "9097b471-987e-4f5b-ae7b-d43c25843243"
      },
      "source": [
        "#Small Market\n",
        "result = smf.ols(\"SalesInThousands ~ Promotion_1 + Promotion_2 + Promotion_3\", df_small).fit()\n",
        "print(result.summary())"
      ],
      "execution_count": null,
      "outputs": [
        {
          "output_type": "stream",
          "name": "stdout",
          "text": [
            "                            OLS Regression Results                            \n",
            "==============================================================================\n",
            "Dep. Variable:       SalesInThousands   R-squared:                       0.368\n",
            "Model:                            OLS   Adj. R-squared:                  0.346\n",
            "Method:                 Least Squares   F-statistic:                     16.58\n",
            "Date:                Tue, 12 Oct 2021   Prob (F-statistic):           2.12e-06\n",
            "Time:                        13:16:52   Log-Likelihood:                -184.40\n",
            "No. Observations:                  60   AIC:                             374.8\n",
            "Df Residuals:                      57   BIC:                             381.1\n",
            "Df Model:                           2                                         \n",
            "Covariance Type:            nonrobust                                         \n",
            "===============================================================================\n",
            "                  coef    std err          t      P>|t|      [0.025      0.975]\n",
            "-------------------------------------------------------------------------------\n",
            "Intercept      42.6218      0.527     80.918      0.000      41.567      43.677\n",
            "Promotion_1    17.5407      0.999     17.564      0.000      15.541      19.540\n",
            "Promotion_2     8.1888      1.085      7.547      0.000       6.016      10.362\n",
            "Promotion_3    16.8923      0.937     18.035      0.000      15.017      18.768\n",
            "==============================================================================\n",
            "Omnibus:                        1.729   Durbin-Watson:                   1.987\n",
            "Prob(Omnibus):                  0.421   Jarque-Bera (JB):                1.242\n",
            "Skew:                          -0.349   Prob(JB):                        0.538\n",
            "Kurtosis:                       3.100   Cond. No.                     1.27e+16\n",
            "==============================================================================\n",
            "\n",
            "Warnings:\n",
            "[1] Standard Errors assume that the covariance matrix of the errors is correctly specified.\n",
            "[2] The smallest eigenvalue is 5.02e-31. This might indicate that there are\n",
            "strong multicollinearity problems or that the design matrix is singular.\n"
          ]
        }
      ]
    },
    {
      "cell_type": "markdown",
      "metadata": {
        "id": "wPd3qv9gjubx"
      },
      "source": [
        "For Small Size, Promo1 is best!"
      ]
    },
    {
      "cell_type": "code",
      "metadata": {
        "colab": {
          "base_uri": "https://localhost:8080/"
        },
        "id": "qjv-tyAFWshZ",
        "outputId": "57899dd3-9f27-4b54-85ff-d7f0dac66ae9"
      },
      "source": [
        "#Medium Market\n",
        "result = smf.ols(\"SalesInThousands ~ Promotion_1 + Promotion_2 + Promotion_3\", df_medium).fit()\n",
        "print(result.summary())"
      ],
      "execution_count": null,
      "outputs": [
        {
          "output_type": "stream",
          "name": "stdout",
          "text": [
            "                            OLS Regression Results                            \n",
            "==============================================================================\n",
            "Dep. Variable:       SalesInThousands   R-squared:                       0.158\n",
            "Model:                            OLS   Adj. R-squared:                  0.152\n",
            "Method:                 Least Squares   F-statistic:                     29.69\n",
            "Date:                Tue, 12 Oct 2021   Prob (F-statistic):           1.52e-12\n",
            "Time:                        09:06:10   Log-Likelihood:                -1131.0\n",
            "No. Observations:                 320   AIC:                             2268.\n",
            "Df Residuals:                     317   BIC:                             2279.\n",
            "Df Model:                           2                                         \n",
            "Covariance Type:            nonrobust                                         \n",
            "===============================================================================\n",
            "                  coef    std err          t      P>|t|      [0.025      0.975]\n",
            "-------------------------------------------------------------------------------\n",
            "Intercept      33.0640      0.350     94.351      0.000      32.374      33.753\n",
            "Promotion_1    14.6086      0.696     20.988      0.000      13.239      15.978\n",
            "Promotion_2     6.0504      0.667      9.077      0.000       4.739       7.362\n",
            "Promotion_3    12.4049      0.650     19.093      0.000      11.127      13.683\n",
            "==============================================================================\n",
            "Omnibus:                        5.169   Durbin-Watson:                   0.969\n",
            "Prob(Omnibus):                  0.075   Jarque-Bera (JB):                4.308\n",
            "Skew:                          -0.193   Prob(JB):                        0.116\n",
            "Kurtosis:                       2.583   Cond. No.                     4.13e+15\n",
            "==============================================================================\n",
            "\n",
            "Warnings:\n",
            "[1] Standard Errors assume that the covariance matrix of the errors is correctly specified.\n",
            "[2] The smallest eigenvalue is 2.5e-29. This might indicate that there are\n",
            "strong multicollinearity problems or that the design matrix is singular.\n"
          ]
        }
      ]
    },
    {
      "cell_type": "markdown",
      "metadata": {
        "id": "GR1-SXoJzJWj"
      },
      "source": [
        "For medium, Promo 1 is best"
      ]
    },
    {
      "cell_type": "code",
      "metadata": {
        "colab": {
          "base_uri": "https://localhost:8080/"
        },
        "id": "uPP0BBk47_lt",
        "outputId": "f8b3c1c8-091c-44d8-aa77-918721e4042d"
      },
      "source": [
        "#Large Market\n",
        "result = smf.ols(\"SalesInThousands ~ Promotion_1 + Promotion_2 + Promotion_3\", df_large).fit()\n",
        "print(result.summary())"
      ],
      "execution_count": null,
      "outputs": [
        {
          "output_type": "stream",
          "name": "stdout",
          "text": [
            "                            OLS Regression Results                            \n",
            "==============================================================================\n",
            "Dep. Variable:       SalesInThousands   R-squared:                       0.206\n",
            "Model:                            OLS   Adj. R-squared:                  0.197\n",
            "Method:                 Least Squares   F-statistic:                     21.45\n",
            "Date:                Tue, 12 Oct 2021   Prob (F-statistic):           5.26e-09\n",
            "Time:                        09:06:19   Log-Likelihood:                -694.97\n",
            "No. Observations:                 168   AIC:                             1396.\n",
            "Df Residuals:                     165   BIC:                             1405.\n",
            "Df Model:                           2                                         \n",
            "Covariance Type:            nonrobust                                         \n",
            "===============================================================================\n",
            "                  coef    std err          t      P>|t|      [0.025      0.975]\n",
            "-------------------------------------------------------------------------------\n",
            "Intercept      53.1905      0.890     59.733      0.000      51.432      54.949\n",
            "Promotion_1    22.0454      1.697     12.994      0.000      18.696      25.395\n",
            "Promotion_2     7.1316      1.618      4.408      0.000       3.937      10.326\n",
            "Promotion_3    24.0135      1.796     13.370      0.000      20.467      27.560\n",
            "==============================================================================\n",
            "Omnibus:                      132.170   Durbin-Watson:                   0.297\n",
            "Prob(Omnibus):                  0.000   Jarque-Bera (JB):               11.866\n",
            "Skew:                           0.004   Prob(JB):                      0.00265\n",
            "Kurtosis:                       1.698   Cond. No.                     4.51e+15\n",
            "==============================================================================\n",
            "\n",
            "Warnings:\n",
            "[1] Standard Errors assume that the covariance matrix of the errors is correctly specified.\n",
            "[2] The smallest eigenvalue is 1.11e-29. This might indicate that there are\n",
            "strong multicollinearity problems or that the design matrix is singular.\n"
          ]
        }
      ]
    },
    {
      "cell_type": "markdown",
      "metadata": {
        "id": "0EtY7qx0zN_i"
      },
      "source": [
        "For large, Promo 3 is best"
      ]
    },
    {
      "cell_type": "markdown",
      "metadata": {
        "id": "DQAumBXDwa_c"
      },
      "source": [
        "**What is the effect of age? Controlling for age, which promotion works best for each market?**\n"
      ]
    },
    {
      "cell_type": "code",
      "metadata": {
        "colab": {
          "base_uri": "https://localhost:8080/"
        },
        "id": "qIP-GAiJukzy",
        "outputId": "e1daa557-7a6d-401c-fc69-4aa0ea1f77d1"
      },
      "source": [
        "#Small\n",
        "result = smf.ols(\"SalesInThousands~Promotion_1+Promotion_2+Promotion_3+AgeOfStore\",data=df_small).fit()\n",
        "print(result.summary())"
      ],
      "execution_count": null,
      "outputs": [
        {
          "output_type": "stream",
          "name": "stdout",
          "text": [
            "                            OLS Regression Results                            \n",
            "==============================================================================\n",
            "Dep. Variable:       SalesInThousands   R-squared:                       0.450\n",
            "Model:                            OLS   Adj. R-squared:                  0.421\n",
            "Method:                 Least Squares   F-statistic:                     15.29\n",
            "Date:                Tue, 12 Oct 2021   Prob (F-statistic):           2.19e-07\n",
            "Time:                        13:23:57   Log-Likelihood:                -180.20\n",
            "No. Observations:                  60   AIC:                             368.4\n",
            "Df Residuals:                      56   BIC:                             376.8\n",
            "Df Model:                           3                                         \n",
            "Covariance Type:            nonrobust                                         \n",
            "===============================================================================\n",
            "                  coef    std err          t      P>|t|      [0.025      0.975]\n",
            "-------------------------------------------------------------------------------\n",
            "Intercept      40.7039      0.826     49.263      0.000      39.049      42.359\n",
            "Promotion_1    16.8215      0.972     17.313      0.000      14.875      18.768\n",
            "Promotion_2     7.8292      1.028      7.615      0.000       5.770       9.889\n",
            "Promotion_3    16.0533      0.927     17.310      0.000      14.195      17.911\n",
            "AgeOfStore      0.2397      0.083      2.901      0.005       0.074       0.405\n",
            "==============================================================================\n",
            "Omnibus:                        2.104   Durbin-Watson:                   2.389\n",
            "Prob(Omnibus):                  0.349   Jarque-Bera (JB):                1.395\n",
            "Skew:                          -0.346   Prob(JB):                        0.498\n",
            "Kurtosis:                       3.282   Cond. No.                     6.81e+16\n",
            "==============================================================================\n",
            "\n",
            "Warnings:\n",
            "[1] Standard Errors assume that the covariance matrix of the errors is correctly specified.\n",
            "[2] The smallest eigenvalue is 2.33e-30. This might indicate that there are\n",
            "strong multicollinearity problems or that the design matrix is singular.\n"
          ]
        }
      ]
    },
    {
      "cell_type": "code",
      "metadata": {
        "colab": {
          "base_uri": "https://localhost:8080/"
        },
        "id": "g9SeZa2vyBDm",
        "outputId": "4cb77189-b9c6-427e-d88b-64dbd0072eec"
      },
      "source": [
        "#Medium\n",
        "result = smf.ols(\"SalesInThousands~Promotion_1+ Promotion_2+ Promotion_3+ AgeOfStore\",data=df_medium).fit()\n",
        "print(result.summary())"
      ],
      "execution_count": null,
      "outputs": [
        {
          "output_type": "stream",
          "name": "stdout",
          "text": [
            "                            OLS Regression Results                            \n",
            "==============================================================================\n",
            "Dep. Variable:       SalesInThousands   R-squared:                       0.165\n",
            "Model:                            OLS   Adj. R-squared:                  0.157\n",
            "Method:                 Least Squares   F-statistic:                     20.85\n",
            "Date:                Tue, 12 Oct 2021   Prob (F-statistic):           2.36e-12\n",
            "Time:                        13:39:03   Log-Likelihood:                -1129.6\n",
            "No. Observations:                 320   AIC:                             2267.\n",
            "Df Residuals:                     316   BIC:                             2282.\n",
            "Df Model:                           3                                         \n",
            "Covariance Type:            nonrobust                                         \n",
            "===============================================================================\n",
            "                  coef    std err          t      P>|t|      [0.025      0.975]\n",
            "-------------------------------------------------------------------------------\n",
            "Intercept      32.2631      0.590     54.716      0.000      31.103      33.423\n",
            "Promotion_1    14.2993      0.718     19.920      0.000      12.887      15.712\n",
            "Promotion_2     5.9410      0.668      8.897      0.000       4.627       7.255\n",
            "Promotion_3    12.0227      0.686     17.517      0.000      10.672      13.373\n",
            "AgeOfStore      0.1217      0.072      1.686      0.093      -0.020       0.264\n",
            "==============================================================================\n",
            "Omnibus:                        4.658   Durbin-Watson:                   0.979\n",
            "Prob(Omnibus):                  0.097   Jarque-Bera (JB):                3.820\n",
            "Skew:                          -0.169   Prob(JB):                        0.148\n",
            "Kurtosis:                       2.585   Cond. No.                     3.01e+16\n",
            "==============================================================================\n",
            "\n",
            "Warnings:\n",
            "[1] Standard Errors assume that the covariance matrix of the errors is correctly specified.\n",
            "[2] The smallest eigenvalue is 4.25e-29. This might indicate that there are\n",
            "strong multicollinearity problems or that the design matrix is singular.\n"
          ]
        }
      ]
    },
    {
      "cell_type": "code",
      "metadata": {
        "colab": {
          "base_uri": "https://localhost:8080/"
        },
        "id": "6NQOIBCoyGQH",
        "outputId": "8b467fdf-00eb-4036-8e43-4714c12604f8"
      },
      "source": [
        "#Large\n",
        "result = smf.ols(\"SalesInThousands~Promotion_1+Promotion_2+Promotion_3+AgeOfStore\",data=df_large).fit()\n",
        "print(result.summary())"
      ],
      "execution_count": null,
      "outputs": [
        {
          "output_type": "stream",
          "name": "stdout",
          "text": [
            "                            OLS Regression Results                            \n",
            "==============================================================================\n",
            "Dep. Variable:       SalesInThousands   R-squared:                       0.206\n",
            "Model:                            OLS   Adj. R-squared:                  0.192\n",
            "Method:                 Least Squares   F-statistic:                     14.21\n",
            "Date:                Tue, 12 Oct 2021   Prob (F-statistic):           2.82e-08\n",
            "Time:                        13:43:49   Log-Likelihood:                -694.97\n",
            "No. Observations:                 168   AIC:                             1398.\n",
            "Df Residuals:                     164   BIC:                             1410.\n",
            "Df Model:                           3                                         \n",
            "Covariance Type:            nonrobust                                         \n",
            "===============================================================================\n",
            "                  coef    std err          t      P>|t|      [0.025      0.975]\n",
            "-------------------------------------------------------------------------------\n",
            "Intercept      53.2024      1.383     38.459      0.000      50.471      55.934\n",
            "Promotion_1    22.0467      1.705     12.928      0.000      18.679      25.414\n",
            "Promotion_2     7.1386      1.739      4.105      0.000       3.705      10.572\n",
            "Promotion_3    24.0171      1.830     13.124      0.000      20.404      27.631\n",
            "AgeOfStore     -0.0023      0.199     -0.011      0.991      -0.396       0.391\n",
            "==============================================================================\n",
            "Omnibus:                      132.640   Durbin-Watson:                   0.297\n",
            "Prob(Omnibus):                  0.000   Jarque-Bera (JB):               11.876\n",
            "Skew:                           0.004   Prob(JB):                      0.00264\n",
            "Kurtosis:                       1.698   Cond. No.                     5.42e+16\n",
            "==============================================================================\n",
            "\n",
            "Warnings:\n",
            "[1] Standard Errors assume that the covariance matrix of the errors is correctly specified.\n",
            "[2] The smallest eigenvalue is 5.04e-30. This might indicate that there are\n",
            "strong multicollinearity problems or that the design matrix is singular.\n"
          ]
        }
      ]
    }
  ]
}